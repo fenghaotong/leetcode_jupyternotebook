{
 "cells": [
  {
   "cell_type": "markdown",
   "metadata": {},
   "source": [
    "# Add Two Numbers "
   ]
  },
  {
   "cell_type": "markdown",
   "metadata": {},
   "source": [
    "** Example ** \n",
    "```\n",
    "Input: (2 -> 4 -> 3) + (5 -> 6 -> 4)\n",
    "Output: 7 -> 0 -> 8\n",
    "Explanation: 342 + 465 = 807.\n",
    "```"
   ]
  },
  {
   "cell_type": "markdown",
   "metadata": {},
   "source": [
    "** Solution **"
   ]
  },
  {
   "cell_type": "code",
   "execution_count": 138,
   "metadata": {},
   "outputs": [],
   "source": [
    "class Solution(object):\n",
    "    def addTwoNumbers(self, l1, l2):\n",
    "        \"\"\"\n",
    "        :type l1: ListNode\n",
    "        :type l2: ListNode\n",
    "        :rtype: ListNode\n",
    "        \"\"\"\n",
    "        l4 = ListNode()\n",
    "        handle1 = ListNode()\n",
    "        l4 = handle1.converse(l1)\n",
    "        #print(handle1.print_ListNode(l4))\n",
    "        l5 = ListNode()\n",
    "        handle2 = ListNode()\n",
    "        l5 = handle2.converse(l2)\n",
    "        #print(handle1.print_ListNode(l5))\n",
    "        \n",
    "        \n",
    "        handle = ListNode()\n",
    "        l3 = ListNode()\n",
    "        conda = False\n",
    "        \n",
    "        while(1):\n",
    "            #print('hello')            \n",
    "            if l4.val!= None or l5.val != None:\n",
    "                \n",
    "                if conda == True:\n",
    "                    add_reasult = l4.val + l5.val + 1\n",
    "                else:\n",
    "                    add_reasult = l4.val + l5.val\n",
    "                    \n",
    "                if add_reasult < 10:\n",
    "                    conda = False\n",
    "                    #print(l1.val, l2.val)\n",
    "                    l3 = handle.add( add_reasult)\n",
    "                    if l4.next == None and l5.next ==None:\n",
    "                        break\n",
    "                        \n",
    "                    l_4 = l4.val\n",
    "                    l_5 = l5.val\n",
    "                    if l4.next != None:     \n",
    "                        l4 = l4.next\n",
    "                    if l5.next != None:            \n",
    "                        l5 = l5.next  \n",
    "                    \n",
    "                    if l_4 == l4.val:\n",
    "                        l4.val = 0\n",
    "                    if l_5 == l5.val:\n",
    "                        l5.val = 0\n",
    "                    #print(l1.val)\n",
    "                else:\n",
    "                    #print(l1.val, l2.val)\n",
    "                    conda = True\n",
    "                    l3 = handle.add(add_reasult - 10)\n",
    "                    if l4.next == None and l5.next == None:\n",
    "                        data = 1\n",
    "                        l3 = handle.add(data)\n",
    "                        break\n",
    "                        \n",
    "                    l_4 = l4.val\n",
    "                    l_5 = l5.val\n",
    "                    if l4.next != None:     \n",
    "                        l4 = l4.next\n",
    "                    if l5.next != None:            \n",
    "                        l5 = l5.next  \n",
    "                    \n",
    "                    if l_4 == l4.val:\n",
    "                        l4.val = 0\n",
    "                    if l_5 == l5.val:\n",
    "                        l5.val = 0\n",
    "                    \n",
    "                    #print(l1.val)\n",
    "        return handle.print_ListNode(handle.converse(l3))\n",
    "    "
   ]
  },
  {
   "cell_type": "code",
   "execution_count": 139,
   "metadata": {},
   "outputs": [],
   "source": [
    "class ListNode(object):  \n",
    "    def __init__(self):  \n",
    "        self.val = None \n",
    "        self.next = None \n",
    "        self.cur_node = None\n",
    "        \n",
    "    def add(self, data):  \n",
    "        #add a new node pointed to previous node  \n",
    "        node = ListNode()  \n",
    "        node.val = data  \n",
    "        node.next = self.cur_node  \n",
    "        self.cur_node = node  \n",
    "        return node  \n",
    "  \n",
    "    def print_ListNode(self, node):  \n",
    "        list = []\n",
    "        while node:  \n",
    "            list.append(node.val)\n",
    "            #print(' value: ', node.val)\n",
    "            node = node.next\n",
    "        return list\n",
    "            \n",
    "    def converse(self, node):\n",
    "        list = []\n",
    "        while node:\n",
    "            list.append(node.val)\n",
    "            node = node.next\n",
    "        l = ListNode()\n",
    "        handle = ListNode()\n",
    "        for i in list:\n",
    "            l = handle.add(i)\n",
    "        #print(handle.print_ListNode(l))\n",
    "        return l"
   ]
  },
  {
   "cell_type": "code",
   "execution_count": 140,
   "metadata": {},
   "outputs": [
    {
     "data": {
      "text/plain": [
       "[1, 8]"
      ]
     },
     "execution_count": 140,
     "metadata": {},
     "output_type": "execute_result"
    }
   ],
   "source": [
    "l1 = ListNode()\n",
    "l2 = ListNode()\n",
    "l3 = ListNode()\n",
    "l4 = ListNode()\n",
    "l1_list = [1, 8]\n",
    "l2_list = [0]\n",
    "for i in l1_list:\n",
    "    l1 = l3.add(i)\n",
    "for j in l2_list:\n",
    "    l2 = l4.add(j)\n",
    "    \n",
    "result = Solution()\n",
    "result.addTwoNumbers(l1, l2)"
   ]
  },
  {
   "cell_type": "code",
   "execution_count": null,
   "metadata": {
    "collapsed": true
   },
   "outputs": [],
   "source": []
  }
 ],
 "metadata": {
  "kernelspec": {
   "display_name": "Python 3",
   "language": "python",
   "name": "python3"
  },
  "language_info": {
   "codemirror_mode": {
    "name": "ipython",
    "version": 3
   },
   "file_extension": ".py",
   "mimetype": "text/x-python",
   "name": "python",
   "nbconvert_exporter": "python",
   "pygments_lexer": "ipython3",
   "version": "3.6.1"
  }
 },
 "nbformat": 4,
 "nbformat_minor": 2
}
