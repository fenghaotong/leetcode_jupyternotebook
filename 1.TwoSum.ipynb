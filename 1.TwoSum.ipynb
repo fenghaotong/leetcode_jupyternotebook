{
 "cells": [
  {
   "cell_type": "markdown",
   "metadata": {},
   "source": [
    "#  TwoSum"
   ]
  },
  {
   "cell_type": "markdown",
   "metadata": {},
   "source": [
    "** Example: **\n",
    "\n",
    "- Given nums = [2, 7, 11, 15], target = 9,\n",
    "\n",
    "- Because nums[0] + nums[1] = 2 + 7 = 9,\n",
    "- return [0, 1]."
   ]
  },
  {
   "cell_type": "code",
   "execution_count": 1,
   "metadata": {
    "collapsed": true
   },
   "outputs": [],
   "source": [
    "import time"
   ]
  },
  {
   "cell_type": "code",
   "execution_count": 7,
   "metadata": {
    "collapsed": true
   },
   "outputs": [],
   "source": [
    "def twoSum( nums, target):\n",
    "    \"\"\"\n",
    "    :type nums: List[int]\n",
    "    :type target: int\n",
    "    :rtype: List[int]\n",
    "    \"\"\"\n",
    "    nums_sort = sorted(nums)\n",
    "    end_num = len(nums) - 1\n",
    "    start_num = 0\n",
    "\n",
    "    while (1):\n",
    "        if start_num != end_num:\n",
    "            if nums_sort[start_num] + nums_sort[end_num] == target:\n",
    "                result = []\n",
    "\n",
    "                for j in range(len(nums)):\n",
    "                    if nums[j] == nums_sort[start_num]:\n",
    "                        result.append(j)\n",
    "                        if nums[j] == nums_sort[end_num]:\n",
    "                            continue\n",
    "                    else:\n",
    "                        if nums[j] == nums_sort[end_num]:\n",
    "                            result.append(j)\n",
    "                start_num += 1\n",
    "                return result\n",
    "            elif nums_sort[start_num] == nums_sort[end_num]:\n",
    "                #print('no exits!')\n",
    "                break\n",
    "            elif nums_sort[start_num] + nums_sort[end_num] < target:\n",
    "                start_num += 1\n",
    "\n",
    "            elif nums_sort[start_num] + nums_sort[end_num] > target:\n",
    "                end_num -= 1\n",
    "        else:\n",
    "            return ('no exits!')\n",
    "            break"
   ]
  },
  {
   "cell_type": "code",
   "execution_count": 11,
   "metadata": {},
   "outputs": [
    {
     "data": {
      "text/plain": [
       "[0, 1]"
      ]
     },
     "execution_count": 11,
     "metadata": {},
     "output_type": "execute_result"
    }
   ],
   "source": [
    "nums = [3,2]\n",
    "target = 5\n",
    "twoSum(nums, target)"
   ]
  },
  {
   "cell_type": "code",
   "execution_count": null,
   "metadata": {
    "collapsed": true
   },
   "outputs": [],
   "source": []
  }
 ],
 "metadata": {
  "kernelspec": {
   "display_name": "Python 3",
   "language": "python",
   "name": "python3"
  },
  "language_info": {
   "codemirror_mode": {
    "name": "ipython",
    "version": 3
   },
   "file_extension": ".py",
   "mimetype": "text/x-python",
   "name": "python",
   "nbconvert_exporter": "python",
   "pygments_lexer": "ipython3",
   "version": "3.6.1"
  }
 },
 "nbformat": 4,
 "nbformat_minor": 2
}
