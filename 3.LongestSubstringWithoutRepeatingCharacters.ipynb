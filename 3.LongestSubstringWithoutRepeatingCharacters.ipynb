{
 "cells": [
  {
   "cell_type": "markdown",
   "metadata": {},
   "source": [
    "# Longest Substring Without Repeating Characters"
   ]
  },
  {
   "cell_type": "markdown",
   "metadata": {},
   "source": [
    "** Examples: **\n",
    "\n",
    "- Given \"abcabcbb\", the answer is \"abc\", which the length is 3.   \n",
    "- Given \"bbbbb\", the answer is \"b\", with the length of 1.   \n",
    "- Given \"pwwkew\", the answer is \"wke\", with the length of 3. Note that the answer must be a substring, \"pwke\" is a subsequence and not a substring."
   ]
  },
  {
   "cell_type": "code",
   "execution_count": 137,
   "metadata": {
    "collapsed": true
   },
   "outputs": [],
   "source": [
    "class Solution:\n",
    "    def lengthOfLongestSubstring(self, s):\n",
    "        \"\"\"\n",
    "        :type s: str\n",
    "        :rtype: int\n",
    "        \"\"\"\n",
    "        if len(s) == 0:\n",
    "            return 0\n",
    "        \n",
    "        str_set = set(s)\n",
    "        length = len(s) - len(str_set)#源字符串与不重复字符串的长度差值\n",
    "        \n",
    "        if len(s) == len(str_set):\n",
    "            return len(s)\n",
    "        else:\n",
    "            for h in range(1, len(str_set)+1):\n",
    "                j = 0 \n",
    "                for i in range(length + h):\n",
    "                    start = i\n",
    "                    end = len(str_set) - h + i + 1 \n",
    "                    Substring = s[start:end]\n",
    "                    if len(set(Substring)) == len(Substring):\n",
    "                        return len(Substring)\n",
    "                        break\n",
    "                    j += 1\n",
    "                if j != length + h:\n",
    "                    break"
   ]
  },
  {
   "cell_type": "code",
   "execution_count": 138,
   "metadata": {
    "collapsed": true
   },
   "outputs": [],
   "source": [
    "str = \"jbpnbwwd\""
   ]
  },
  {
   "cell_type": "code",
   "execution_count": 139,
   "metadata": {},
   "outputs": [
    {
     "name": "stdout",
     "output_type": "stream",
     "text": [
      "jbpn\n"
     ]
    }
   ],
   "source": [
    "str_set = set(str)\n",
    "for h in range(1, len(str_set) + 1):\n",
    "    j = 0 \n",
    "    for i in range(len(str) - len(str_set) + h):\n",
    "        Substring = str[i:(len(str_set) - h + i + 1)]\n",
    "#         print('i',i)\n",
    "#         print('h',h)\n",
    "#         print('leng',len(str_set) - h + i + 1)\n",
    "#         print(Substring)\n",
    "#         print(len(set(Substring)))\n",
    "#         print(len(Substring))\n",
    "        if len(set(Substring)) == len(Substring):\n",
    "            print(Substring)\n",
    "            break\n",
    "        j += 1\n",
    "    if j != (len(str) - len(str_set) + h):\n",
    "        break"
   ]
  },
  {
   "cell_type": "code",
   "execution_count": 140,
   "metadata": {},
   "outputs": [
    {
     "data": {
      "text/plain": [
       "4"
      ]
     },
     "execution_count": 140,
     "metadata": {},
     "output_type": "execute_result"
    }
   ],
   "source": [
    "sol = Solution()\n",
    "sol.lengthOfLongestSubstring(str)"
   ]
  },
  {
   "cell_type": "code",
   "execution_count": null,
   "metadata": {
    "collapsed": true
   },
   "outputs": [],
   "source": []
  }
 ],
 "metadata": {
  "kernelspec": {
   "display_name": "Python 3",
   "language": "python",
   "name": "python3"
  },
  "language_info": {
   "codemirror_mode": {
    "name": "ipython",
    "version": 3
   },
   "file_extension": ".py",
   "mimetype": "text/x-python",
   "name": "python",
   "nbconvert_exporter": "python",
   "pygments_lexer": "ipython3",
   "version": "3.6.1"
  }
 },
 "nbformat": 4,
 "nbformat_minor": 2
}
